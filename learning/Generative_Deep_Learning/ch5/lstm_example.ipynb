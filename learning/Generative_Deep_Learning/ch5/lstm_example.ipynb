{
 "cells": [
  {
   "cell_type": "code",
   "id": "initial_id",
   "metadata": {
    "collapsed": true,
    "ExecuteTime": {
     "end_time": "2024-07-23T10:52:39.339725Z",
     "start_time": "2024-07-23T10:52:39.337081Z"
    }
   },
   "source": [
    "import numpy as np\n",
    "import json\n",
    "import re\n",
    "import string\n",
    "\n",
    "import tensorflow as tf\n",
    "from tensorflow.keras import layers, models, losses, callbacks"
   ],
   "outputs": [],
   "execution_count": 11
  },
  {
   "metadata": {
    "ExecuteTime": {
     "end_time": "2024-07-23T10:47:10.848521Z",
     "start_time": "2024-07-23T10:47:10.490805Z"
    }
   },
   "cell_type": "code",
   "source": [
    "# 데이터셋은 http://oreil.ly/laNUt 에서 직접 다운로드 받았습니다.\n",
    "with open('./full_format_recipes.json') as json_data:\n",
    "    recipe_data = json.load(json_data)\n",
    "    \n",
    "filtered_data = [\n",
    "    'Recipe for ' + x['title'] + \" | \" + ''.join(x['directions']) for x in recipe_data\n",
    "    if 'title' in x and x['title'] is not None and 'directions' in x and x['directions'] is not None\n",
    "]"
   ],
   "id": "8b6077c6dc427f1",
   "outputs": [],
   "execution_count": 3
  },
  {
   "metadata": {
    "ExecuteTime": {
     "end_time": "2024-07-23T10:47:13.093174Z",
     "start_time": "2024-07-23T10:47:13.090610Z"
    }
   },
   "cell_type": "code",
   "source": [
    "n_recipes = len(filtered_data)\n",
    "print('{}개 레시피 로드'.format(n_recipes))\n",
    "\n",
    "example = filtered_data[19]\n",
    "print(example)"
   ],
   "id": "e9076eb399608ce6",
   "outputs": [
    {
     "name": "stdout",
     "output_type": "stream",
     "text": [
      "20111개 레시피 로드\n",
      "Recipe for Tuna, Asparagus, and New Potato Salad with Chive Vinaigrette and Fried Capers  | Puree first 5 ingredients in blender until smooth. With machine running, gradually add vegetable oil, then olive oil. Season to taste with salt and pepper. DO AHEAD: Can be made 1 day ahead. Cover and chill.Cook asparagus in large skillet of boiling salted water until just tender, 4 to 5 minutes. Transfer asparagus to 13x9x2-inch pan of ice water to cool. Drain asparagus and pat dry. DO AHEAD: Can be made 8 hours ahead. Wrap in paper towels, then plastic, and chill.Place potatoes in large saucepan. Add enough water to cover potatoes by 1 inch. Sprinkle with salt. Bring to boil and cook until potatoes are tender, 10 to 15 minutes, depending on size of potatoes. Drain; let cool 5 minutes. Place in medium bowl. Add 1/4 cup vinaigrette; toss to coat. Season to taste with salt and pepper.Heat olive oil in small skillet over medium-high heat. Add capers and fry until capers are crisp and open like flowers, stirring often, 45 to 60 seconds. Using slotted spoon, transfer capers to paper towels to drain. DO AHEAD: Potatoes and capers can be made 2 hours ahead. Let stand at room temperature.Place asparagus in large bowl. Add 2 tablespoons vinaigrette and toss to coat. Toss potatoes again to coat, adding 1 more tablespoon vinaigrette if dry. Place greens and radishes in another large bowl. Toss with enough vinaigrette to coat. Spread greens and radishes over large platter. Arrange potatoes, asparagus, eggs, and tuna atop greens. Drizzle some vinaigrette over tuna. Sprinkle with fried capers and chive blossoms, if desired.\n"
     ]
    }
   ],
   "execution_count": 4
  },
  {
   "metadata": {},
   "cell_type": "markdown",
   "source": [
    "### 토큰화(tokenization)\n",
    "\n",
    "토큰화는 텍스트를 단어나 문자와 같은 개별 단위로 나누는 작업.  \n",
    "텍스트 토큰화는 다양한 방법이 존재하고 방법에 따라 이후 모델의 출력에 많은 영향을 미칩니다."
   ],
   "id": "c1f84761903be81e"
  },
  {
   "metadata": {
    "ExecuteTime": {
     "end_time": "2024-07-23T10:47:19.829223Z",
     "start_time": "2024-07-23T10:47:17.003343Z"
    }
   },
   "cell_type": "code",
   "source": [
    "def pad_punctuation(s):\n",
    "    s = re.sub(f'([{string.punctuation}])', r' \\1', s)\n",
    "    s = re.sub(' +', ' ', s)\n",
    "    return s\n",
    "\n",
    "text_data = [pad_punctuation(x) for x in filtered_data]\n",
    "text_ds = tf.data.Dataset.from_tensor_slices(text_data).batch(32).shuffle(1000)\n",
    "\n",
    "vectorize_layer = layers.TextVectorization(\n",
    "    standardize = 'lower',\n",
    "    max_tokens = 10000,\n",
    "    output_mode = 'int',\n",
    "    output_sequence_length = 200 + 1,\n",
    ")\n",
    "\n",
    "vectorize_layer.adapt(text_ds)\n",
    "vocab = vectorize_layer.get_vocabulary()"
   ],
   "id": "1d41d3718104dcaf",
   "outputs": [
    {
     "name": "stderr",
     "output_type": "stream",
     "text": [
      "2024-07-23 19:47:18.065800: I tensorflow/compiler/xla/stream_executor/cuda/cuda_gpu_executor.cc:880] could not open file to read NUMA node: /sys/bus/pci/devices/0000:01:00.0/numa_node\n",
      "Your kernel may have been built without NUMA support.\n",
      "2024-07-23 19:47:18.177051: I tensorflow/compiler/xla/stream_executor/cuda/cuda_gpu_executor.cc:880] could not open file to read NUMA node: /sys/bus/pci/devices/0000:01:00.0/numa_node\n",
      "Your kernel may have been built without NUMA support.\n",
      "2024-07-23 19:47:18.177083: I tensorflow/compiler/xla/stream_executor/cuda/cuda_gpu_executor.cc:880] could not open file to read NUMA node: /sys/bus/pci/devices/0000:01:00.0/numa_node\n",
      "Your kernel may have been built without NUMA support.\n",
      "2024-07-23 19:47:18.179398: I tensorflow/compiler/xla/stream_executor/cuda/cuda_gpu_executor.cc:880] could not open file to read NUMA node: /sys/bus/pci/devices/0000:01:00.0/numa_node\n",
      "Your kernel may have been built without NUMA support.\n",
      "2024-07-23 19:47:18.179431: I tensorflow/compiler/xla/stream_executor/cuda/cuda_gpu_executor.cc:880] could not open file to read NUMA node: /sys/bus/pci/devices/0000:01:00.0/numa_node\n",
      "Your kernel may have been built without NUMA support.\n",
      "2024-07-23 19:47:18.179443: I tensorflow/compiler/xla/stream_executor/cuda/cuda_gpu_executor.cc:880] could not open file to read NUMA node: /sys/bus/pci/devices/0000:01:00.0/numa_node\n",
      "Your kernel may have been built without NUMA support.\n",
      "2024-07-23 19:47:18.301975: I tensorflow/compiler/xla/stream_executor/cuda/cuda_gpu_executor.cc:880] could not open file to read NUMA node: /sys/bus/pci/devices/0000:01:00.0/numa_node\n",
      "Your kernel may have been built without NUMA support.\n",
      "2024-07-23 19:47:18.302009: I tensorflow/compiler/xla/stream_executor/cuda/cuda_gpu_executor.cc:880] could not open file to read NUMA node: /sys/bus/pci/devices/0000:01:00.0/numa_node\n",
      "Your kernel may have been built without NUMA support.\n",
      "2024-07-23 19:47:18.302013: I tensorflow/core/common_runtime/gpu/gpu_device.cc:1977] Could not identify NUMA node of platform GPU id 0, defaulting to 0.  Your kernel may not have been built with NUMA support.\n",
      "2024-07-23 19:47:18.302030: I tensorflow/compiler/xla/stream_executor/cuda/cuda_gpu_executor.cc:880] could not open file to read NUMA node: /sys/bus/pci/devices/0000:01:00.0/numa_node\n",
      "Your kernel may have been built without NUMA support.\n",
      "2024-07-23 19:47:18.302044: I tensorflow/core/common_runtime/gpu/gpu_device.cc:1886] Created device /job:localhost/replica:0/task:0/device:GPU:0 with 21770 MB memory:  -> device: 0, name: NVIDIA GeForce RTX 3090, pci bus id: 0000:01:00.0, compute capability: 8.6\n"
     ]
    }
   ],
   "execution_count": 5
  },
  {
   "metadata": {
    "ExecuteTime": {
     "end_time": "2024-07-23T10:47:22.338436Z",
     "start_time": "2024-07-23T10:47:22.335390Z"
    }
   },
   "cell_type": "code",
   "source": [
    "for i, word in enumerate(vocab[:10]):\n",
    "    print('{}: {}'.format(i, word))"
   ],
   "id": "48884122cca8fb7f",
   "outputs": [
    {
     "name": "stdout",
     "output_type": "stream",
     "text": [
      "0: \n",
      "1: [UNK]\n",
      "2: ,\n",
      "3: .\n",
      "4: and\n",
      "5: to\n",
      "6: in\n",
      "7: the\n",
      "8: with\n",
      "9: a\n"
     ]
    }
   ],
   "execution_count": 6
  },
  {
   "metadata": {
    "ExecuteTime": {
     "end_time": "2024-07-19T11:13:55.243355Z",
     "start_time": "2024-07-19T11:13:54.638140Z"
    }
   },
   "cell_type": "code",
   "source": [
    "example_data = text_data[9]\n",
    "example_tokenized = vectorize_layer(example_data)\n",
    "print(example_tokenized.numpy())"
   ],
   "id": "4f5e474ffa0f00b9",
   "outputs": [
    {
     "name": "stderr",
     "output_type": "stream",
     "text": [
      "2024-07-19 20:13:54.905456: I tensorflow/tsl/platform/default/subprocess.cc:304] Start cannot spawn child process: No such file or directory\n"
     ]
    },
    {
     "name": "stdout",
     "output_type": "stream",
     "text": [
      "[  24   14  571    1    8  306  340  186    4 1103  508   25  342  224\n",
      "  233  256    5  615   11  129   20  357    3  342   40  256    4  694\n",
      "    4   66    8  166    4   74    6    9   60   72    2  110    2   56\n",
      "   12  333    2   85  674   18   33    6    9   28   19    4   63  535\n",
      "   11  158    3  350  166   95    9  373  679  303   22   19    8  674\n",
      "    4   38    5  988    3   61    8   21    4   30    3  107   19    6\n",
      "  173  176 1324    4   55    5  134  105    2   44  721  571    8  278\n",
      "  233    4  253  285 1039    3  114  674   26   68    4  102   10  107\n",
      "    2   50  198   11  168  433  103  489    2  306    2  188    2   11\n",
      "   67  138   21    2    4   11   67  138   30    6    9   27   19    3\n",
      "   38    6  353    2 3758    2    4  145 1519  508    8 1347    2   31\n",
      "    2   11   53  138   30    2    4   11   67  138   21    6    9  286\n",
      "  184    5    9  418  608 3298  508    2   41  340  186    2   18  571\n",
      "    3    0    0    0    0    0    0    0    0    0    0    0    0    0\n",
      "    0    0    0    0    0]\n"
     ]
    }
   ],
   "execution_count": 8
  },
  {
   "metadata": {
    "ExecuteTime": {
     "end_time": "2024-07-23T10:47:24.932314Z",
     "start_time": "2024-07-23T10:47:24.892690Z"
    }
   },
   "cell_type": "code",
   "source": [
    "# 훈련 세트 만들기\n",
    "def prepare_inputs(text):\n",
    "    text = tf.expand_dims(text, -1)\n",
    "    tokenized_sentences = vectorize_layer(text)\n",
    "    x = tokenized_sentences[:, :-1]\n",
    "    y = tokenized_sentences[:, 1:]\n",
    "    return x, y\n",
    "\n",
    "\n",
    "train_ds = text_ds.map(prepare_inputs)"
   ],
   "id": "27012c2291d8987",
   "outputs": [],
   "execution_count": 7
  },
  {
   "metadata": {},
   "cell_type": "markdown",
   "source": [
    "### LSTM 만들기\n",
    "\n",
    "모델의 입력 = 정수 토큰의 시퀀스,  \n",
    "모델의 출력 = 10,000개 단어의 어휘 사전에서 시퀀스 다음에 나올 단어의 확률"
   ],
   "id": "9919b49adad6608f"
  },
  {
   "metadata": {
    "ExecuteTime": {
     "end_time": "2024-07-23T10:47:27.167793Z",
     "start_time": "2024-07-23T10:47:27.165298Z"
    }
   },
   "cell_type": "code",
   "source": [
    "# 파라미터\n",
    "VOCAB_SIZE = 10000\n",
    "MAX_LEN = 200\n",
    "EMBEDDING_SIZE = 100\n",
    "N_UNITS = 128\n",
    "VALIDATION_SPLIT = 0.2\n",
    "SEED = 42\n",
    "LOAD_MODEL = False\n",
    "BATCH_SIZE = 32\n",
    "EPOCHS = 25"
   ],
   "id": "2d58db03042a2e74",
   "outputs": [],
   "execution_count": 8
  },
  {
   "metadata": {
    "ExecuteTime": {
     "end_time": "2024-07-23T11:07:37.778540Z",
     "start_time": "2024-07-23T11:07:37.662319Z"
    }
   },
   "cell_type": "code",
   "source": [
    "inputs = layers.Input(shape=(None,), dtype='int32')\n",
    "x = layers.Embedding(VOCAB_SIZE, EMBEDDING_SIZE)(inputs)\n",
    "x = layers.LSTM(N_UNITS, return_sequences=True)(x)\n",
    "outputs = layers.Dense(VOCAB_SIZE, activation='softmax')(x)\n",
    "lstm = models.Model(inputs, outputs)\n",
    "lstm.summary()"
   ],
   "id": "34cfc68f051b21c3",
   "outputs": [
    {
     "name": "stdout",
     "output_type": "stream",
     "text": [
      "Model: \"model_1\"\n",
      "_________________________________________________________________\n",
      " Layer (type)                Output Shape              Param #   \n",
      "=================================================================\n",
      " input_2 (InputLayer)        [(None, None)]            0         \n",
      "                                                                 \n",
      " embedding_1 (Embedding)     (None, None, 100)         1000000   \n",
      "                                                                 \n",
      " lstm_1 (LSTM)               (None, None, 128)         117248    \n",
      "                                                                 \n",
      " dense_1 (Dense)             (None, None, 10000)       1290000   \n",
      "                                                                 \n",
      "=================================================================\n",
      "Total params: 2407248 (9.18 MB)\n",
      "Trainable params: 2407248 (9.18 MB)\n",
      "Non-trainable params: 0 (0.00 Byte)\n",
      "_________________________________________________________________\n"
     ]
    }
   ],
   "execution_count": 19
  },
  {
   "metadata": {
    "ExecuteTime": {
     "end_time": "2024-07-23T11:07:39.272562Z",
     "start_time": "2024-07-23T11:07:39.266418Z"
    }
   },
   "cell_type": "code",
   "source": [
    "loss_fn = losses.SparseCategoricalCrossentropy()\n",
    "lstm.compile('adam', loss_fn)"
   ],
   "id": "6f12f60fe788e3f2",
   "outputs": [],
   "execution_count": 20
  },
  {
   "metadata": {
    "ExecuteTime": {
     "end_time": "2024-07-23T11:07:40.531071Z",
     "start_time": "2024-07-23T11:07:40.526962Z"
    }
   },
   "cell_type": "code",
   "source": [
    "class TextGenerator(callbacks.Callback):\n",
    "    def __init__(self, index_to_word, top_k=10):\n",
    "        self.index_to_word = index_to_word\n",
    "        self.word_to_index = {\n",
    "            word: index for index, word in enumerate(index_to_word)\n",
    "        }\n",
    "    \n",
    "    def sample_from(self, probs, temperature):\n",
    "        probs = probs ** (1 / temperature)\n",
    "        probs = probs / np.sum(probs)\n",
    "        return np.random.choice(len(probs), p=probs), probs\n",
    "    \n",
    "    def generate(self, start_prompt, max_tokens, temperature):\n",
    "        start_tokens = [self.word_to_index.get(x, 1) for x in start_prompt.split()]\n",
    "        sample_token = None\n",
    "        info = []\n",
    "        while len(start_tokens) < max_tokens and sample_token != 0:\n",
    "            x = np.array([start_tokens])\n",
    "            y = self.model.predict(x, verbose=0)\n",
    "            sample_token, probs = self.sample_from(y[0][-1], temperature)\n",
    "            info.append({'prompt': start_prompt, 'word_probs': probs})\n",
    "            start_tokens.append(sample_token)\n",
    "            start_prompt = start_prompt + ' ' + self.index_to_word[sample_token]\n",
    "        print(f\"\\n생성된 텍스트:\\n{start_prompt}\\n\")\n",
    "        return info\n",
    "    \n",
    "    def on_epoch_end(self, epoch, logs=None):\n",
    "        self.generate(\"recipe for\", max_tokens=100, temperature=1.0)"
   ],
   "id": "facc5f9f0c09131f",
   "outputs": [],
   "execution_count": 21
  },
  {
   "metadata": {
    "ExecuteTime": {
     "end_time": "2024-07-23T11:07:41.371120Z",
     "start_time": "2024-07-23T11:07:41.367858Z"
    }
   },
   "cell_type": "code",
   "source": "text_generator = TextGenerator(vocab)",
   "id": "4bdedf05d54e7687",
   "outputs": [],
   "execution_count": 22
  },
  {
   "metadata": {
    "ExecuteTime": {
     "end_time": "2024-07-23T11:07:41.758482Z",
     "start_time": "2024-07-23T11:07:41.755979Z"
    }
   },
   "cell_type": "code",
   "source": [
    "model_checkpoint_callback = callbacks.ModelCheckpoint(\n",
    "    filepath=\"./checkpoint/checkpoint.ckpt\",\n",
    "    save_weights_only=True,\n",
    "    save_freq=\"epoch\",\n",
    "    verbose=0,\n",
    ")\n",
    "\n",
    "tensorboard_callback = callbacks.TensorBoard(log_dir=\"./logs\")"
   ],
   "id": "23e4a2a431c7658e",
   "outputs": [],
   "execution_count": 23
  },
  {
   "metadata": {
    "ExecuteTime": {
     "end_time": "2024-07-23T11:14:02.102850Z",
     "start_time": "2024-07-23T11:07:42.184051Z"
    }
   },
   "cell_type": "code",
   "source": "lstm.fit(train_ds, epochs=EPOCHS, callbacks=[model_checkpoint_callback, tensorboard_callback, text_generator])",
   "id": "9bc787e03000a1b5",
   "outputs": [
    {
     "name": "stdout",
     "output_type": "stream",
     "text": [
      "Epoch 1/25\n",
      "629/629 [==============================] - ETA: 0s - loss: 4.4354\n",
      "생성된 텍트스:\n",
      "recipe for ice warm and heavy room )prepare skillet | whisk blend , pound and sugar until taste from \n",
      "\n",
      "629/629 [==============================] - 23s 35ms/step - loss: 4.4354\n",
      "Epoch 2/25\n",
      "628/629 [============================>.] - ETA: 0s - loss: 3.0849\n",
      "생성된 텍트스:\n",
      "recipe for roasted wild eggs | together bourbon , , cilantro , and lemon juice in a fork crust until dissolved . caraway cooking the broth from onions ; sprinkle with salt , egg and snow chop green mixture until it mixture snap through 12 cups to pleating through and cool gently while holds heated through and serving to a bowl with a slotted spoon , stir , flour just mushrooms and simmer gently turn while rice comes out ) . when just sambal will -iron the ) into the bowl and cook until )preheat to the (it are desired\n",
      "\n",
      "629/629 [==============================] - 16s 25ms/step - loss: 3.0842\n",
      "Epoch 3/25\n",
      "627/629 [============================>.] - ETA: 0s - loss: 2.5512\n",
      "생성된 텍트스:\n",
      "recipe for summer sauce teriyaki warm streusel | in a bowl with both sides of the pie ring with parchment of the best cream into the freeze . chill sheet rest for about 2 minutes .place the slice nuts in a rimmed baking flat . garnish with an electric mixer tightly until fluffy stick cream , if desired . halve lemon string and 1 manner .cook garlic , and golden , maple rosemary and flour in 2 tablespoons in medium bowl , then broil flour ; bake until golden brown in brown , about 8 minutes . fold tuna into\n",
      "\n",
      "629/629 [==============================] - 16s 25ms/step - loss: 2.5506\n",
      "Epoch 4/25\n",
      "627/629 [============================>.] - ETA: 0s - loss: 2.2896\n",
      "생성된 텍트스:\n",
      "recipe for yeast -curry pie sandwiches with blue peppers | preheat oven to 325°f .toss cream , place sauce in 13x9x2 -inch pans , about 20 minutes . cut out milk diagonally and mesquite flour forms . place egg whites in egg mixture .mix onions , green sugar and tawny syrup in heavy large saucepan over medium pot until flavors light and set , about 1 /2 cupfuls if desired to top with pear zucchini , green mixture edges , to taste , lemon juice and salt and pepper . set over pan . cover tightly ; refrigerate until cool\n",
      "\n",
      "629/629 [==============================] - 16s 25ms/step - loss: 2.2888\n",
      "Epoch 5/25\n",
      "627/629 [============================>.] - ETA: 0s - loss: 2.1403\n",
      "생성된 텍트스:\n",
      "recipe for orecchiette with new softest mushroom , noodles , olive couscous , bell pepper and pineapple chile ricotta | bring water and cool . add curry powder and dry ingredients . cook until neck in spots , about 5 minutes . fold in half . transfer chicken to bowl and sprinkle with remaining 1 /4 cup cream . spoon cream atop chocolate . bake until mixture is tender and tender , 20 to 10 minutes . transfer rack to paper towels and measure 1 /2 cups ice . cover tightly place with foil -lined round . cut edge of\n",
      "\n",
      "629/629 [==============================] - 16s 25ms/step - loss: 2.1402\n",
      "Epoch 6/25\n",
      "628/629 [============================>.] - ETA: 0s - loss: 2.0401\n",
      "생성된 텍트스:\n",
      "recipe for summer pepper bavarian | finely grind in the freezer for 5 minutes . remove the stew from the liquid , add the remaining cilantro leaves , hazelnuts , in a pinch of salt , pepper . pour into the dishes and bake until crisp and 1 to a shallots of filling , about 25 minutes . \n",
      "\n",
      "629/629 [==============================] - 14s 23ms/step - loss: 2.0398\n",
      "Epoch 7/25\n",
      "629/629 [==============================] - ETA: 0s - loss: 1.9636\n",
      "생성된 텍트스:\n",
      "recipe for hot rice stock | bring water to boil in heavy medium saucepan . reduce heat to medium -low . cover and cook until mushrooms are very tender , about 6 minutes . add 1 tablespoon at desired , about 1 minute . add cabbage , cut side down , 6 cups salmon , shallots , bay leaf , 1 /2 teaspoon salt , and 1 small broth and thyme more , cinnamon stick . simmer until onions are reduced and heated through , until all but still 3–5 minutes . transfer to bowl . bring fish to noodles\n",
      "\n",
      "629/629 [==============================] - 16s 25ms/step - loss: 1.9636\n",
      "Epoch 8/25\n",
      "629/629 [==============================] - ETA: 0s - loss: 1.9022\n",
      "생성된 텍트스:\n",
      "recipe for spicy tomato ragoût | scrape seeds off skin released fat in large bowl . brush squash with 3 bacon . in large heavy skillet over tarragon heat heavy large skillet over medium heat with butter , stirring occasionally , until cheese is slightly softened , about 3 minutes . \n",
      "\n",
      "629/629 [==============================] - 14s 22ms/step - loss: 1.9022\n",
      "Epoch 9/25\n",
      "628/629 [============================>.] - ETA: 0s - loss: 1.8565\n",
      "생성된 텍트스:\n",
      "recipe for lemon blueberry -raisin fruit wedges | child : bok choy , lemons , sliced apples , and dates in fresh sugar and in a large pot whisk together bananas , cream cheese , vanilla , and salt and pepper to taste until mixture thickens , about 1 minute . \n",
      "\n",
      "629/629 [==============================] - 14s 22ms/step - loss: 1.8563\n",
      "Epoch 10/25\n",
      "628/629 [============================>.] - ETA: 0s - loss: 1.8193\n",
      "생성된 텍트스:\n",
      "recipe for roasted cod kebabs | cook chicken and onions in large pot of boiling salted water until tender when pierced with lid , place bacon directly over and cook until tops are just cooked through , about 20 minutes . drain well . return to simmer in pot , stirring and 20 minutes . season with salt and pepper . [UNK] ribs can be made 1 day ahead . cover with plastic wrap and refrigerate . bring to room temperature before serving . )position rack in center of oven and preheat to 375°f . heat 1 tablespoon butter in\n",
      "\n",
      "629/629 [==============================] - 15s 24ms/step - loss: 1.8190\n",
      "Epoch 11/25\n",
      "629/629 [==============================] - ETA: 0s - loss: 1.7843\n",
      "생성된 텍트스:\n",
      "recipe for spicy herbed chicken stew with salami and figs risotto | cook sausage according to package instructions to drain .just boil any red enclosed pasta in pot of boiling water until doubled in color , about 20 minutes .meanwhile , cook potatoes , beans , cream and 1 1 /2 tablespoons water in a wide 2 - to 6 - to 10 -quart saucepan . pour off cinnamon and fat simmers . add eggs and purée as just careful not to sizzle . cover with lid ; bring all liquid to a boil . reduce heat , cover ,\n",
      "\n",
      "629/629 [==============================] - 16s 25ms/step - loss: 1.7843\n",
      "Epoch 12/25\n",
      "629/629 [==============================] - ETA: 0s - loss: 1.7589\n",
      "생성된 텍트스:\n",
      "recipe for garden burger | combine lettuce , endive and green onions strips in medium bowl . mix in cocoa powder .sprinkle with salt and pepper . (can be made 1 day ahead . cover and chill . )prepare barbecue (medium -high heat ) ; set rest of 2 slices to roasting pans . cut tomato squares in 1 /4 inch brown butter . rub all eggs and wings over chicken . sprinkle with blue cheese and warm , if desired . \n",
      "\n",
      "629/629 [==============================] - 15s 24ms/step - loss: 1.7589\n",
      "Epoch 13/25\n",
      "629/629 [==============================] - ETA: 0s - loss: 1.7322\n",
      "생성된 텍트스:\n",
      "recipe for [UNK] [UNK] bacon | whisk corn chile paste in medium bowl to blend . place on baking sheet ; sprinkle half of mayonnaise over onion . toss in sour cream ; season croutons to taste with salt and pepper . sprinkle dusted with chiles , \n",
      "\n",
      "629/629 [==============================] - 14s 22ms/step - loss: 1.7322\n",
      "Epoch 14/25\n",
      "628/629 [============================>.] - ETA: 0s - loss: 1.7119\n",
      "생성된 텍트스:\n",
      "recipe for 1 chess brownies | 1 . preheat the oven to 375°f . rolling out two 13 \" bundt pan and dust the brisket with the flour , knocking out the sides .in heavy saucepan over medium heat , add the sugar , stir until the chocolate is dissolved , about 1 minute . stir in the sugar and the mixture , add the flour mixture and the turkey over a little for 1 hour .5 . remove from the bowl so the mixture bubbles gently and incorporated attachment .freeze custard in the refrigerator for up to 2 months\n",
      "\n",
      "629/629 [==============================] - 15s 24ms/step - loss: 1.7122\n",
      "Epoch 15/25\n",
      "628/629 [============================>.] - ETA: 0s - loss: 1.6936\n",
      "생성된 텍트스:\n",
      "recipe for lobster and dried cranberries with shiitake mushrooms , potatoes , and red -wine gravy | bring onion , 2 cups beans to 2 -cup heavy pot and boil soy sauce , 1 /2 at a time , and vegetable mixture until smooth . mix in 1 /2 cup sugar ; simmer until tender , stirring often , about 10 minutes . discard salt and in a small ovenproof same skillet , warm egg yolks , and stir just until fragrant , about 1 minute . add butter and cook , stirring , until onions begin to release thermometer\n",
      "\n",
      "629/629 [==============================] - 16s 25ms/step - loss: 1.6932\n",
      "Epoch 16/25\n",
      "629/629 [==============================] - ETA: 0s - loss: 1.6738\n",
      "생성된 텍트스:\n",
      "recipe for kale bourbon sauce | in a medium saucepan over moderately high heat the oil , bring sauce ingredients to the simmering oil , stirring until it is starting to caramelize with the remaining tomatoes . add rice , the asparagus , cored and extra cloves and simmer in cleaned pot , stirring occasionally , until the liquid has evaporated . let the oil cool in a colander while stirring , for 2 minutes . add cilantro and turmeric .place 2 tablespoons olive oil in the bowl set on a large baking sheet , cover with parchment and bake\n",
      "\n",
      "629/629 [==============================] - 15s 24ms/step - loss: 1.6738\n",
      "Epoch 17/25\n",
      "629/629 [==============================] - ETA: 0s - loss: 1.6573\n",
      "생성된 텍트스:\n",
      "recipe for three trifle | half of food processor , blend over medium heat . add egg ; blend until clumps form . gather into ball . transfer to clean . cover and refrigerate at least 15 minutes and up to 1 day .preheat oven to 200°f . whisk 1 /2 cup cider syrup and sugar in medium bowl to blend , stirring until sugar . let stand 1 minute .pour marinade into 8 -inch glass ramekins . dust mold with remaining 2 /3 -inch cooking spray . dust pan with flour , swirling well , turning and stirring occasionally\n",
      "\n",
      "629/629 [==============================] - 15s 23ms/step - loss: 1.6573\n",
      "Epoch 18/25\n",
      "629/629 [==============================] - ETA: 0s - loss: 1.6436\n",
      "생성된 텍트스:\n",
      "recipe for honey -topped orange waffles | preheat oven to 375°f . arrange apples around sides of middle of oven decoratively . stir butter , oats , cornstarch , flour , chopped baking powder , and garlic cloves in medium bowl . rub against 3 eggs . pack eggs into pan . repeat 2 more times with more flour in same manner . gather six enough shells with 1 tablespoon capacity ) . halve cakes crosswise .combine pecans , 1 tsp . butter and sugar in medium bowl . mix into peach . set 2 /3 of small sheet metal\n",
      "\n",
      "629/629 [==============================] - 15s 23ms/step - loss: 1.6436\n",
      "Epoch 19/25\n",
      "629/629 [==============================] - ETA: 0s - loss: 1.6284\n",
      "생성된 텍트스:\n",
      "recipe for cajun tortilla cooler | soak shelled chop in cold water to yield 1 /2 cup and lemon peel . combine 3 /4 cup lukewarm water and 1 tablespoon sugar in medium saucepan ; whisk to medium -high and whisk to yolks ; spoon over fruit . stir over low heat until thickened and dumplings are puffed and heated through , about 3 hours .divide butter among ramekins . drizzle with remaining tablespoon sauce . combine 3 ounces marsala , and orange lemon peel in small bowl . add smoothie or dried fruits and salsa hardens . press onto\n",
      "\n",
      "629/629 [==============================] - 15s 23ms/step - loss: 1.6284\n",
      "Epoch 20/25\n",
      "628/629 [============================>.] - ETA: 0s - loss: 1.6155\n",
      "생성된 텍트스:\n",
      "recipe for butternut squash soup with ginger and saffron | mix all ingredients in small bowl to blend . season with salt and pepper . add 2 teaspoons pepper and paprika and blend 1 minute . add enough pieces to well and shake to coat . spoon off excess fat .heat oil in a 12 -inch heavy skillet over moderately high heat until hot . heat water over moderately low heat , stirring occasionally , until garlic is softened . stir in bread crumbs , about skillet , and cook mixture , stirring , until lightly browned , about 2\n",
      "\n",
      "629/629 [==============================] - 15s 23ms/step - loss: 1.6151\n",
      "Epoch 21/25\n",
      "629/629 [==============================] - ETA: 0s - loss: 1.6078\n",
      "생성된 텍트스:\n",
      "recipe for chinese tomato squares | prepare barbecue (medium heat ) .in a heavy saucepan melt butter in an ovenproof 6 - heavy butter cook over moderately high heat , stirring , until brown slightly , about 12 minutes . add wine and rosemary and bring to boil , scraping up any brown bits color , about 1 minute . add wine and boil until slightly reduced , about 1 cup pea tendrils , 1 1 /2 minutes . stir in vinegar and add potatoes . cover pot and cover to keep chilled . )mound cauliflower on heavy large skillet\n",
      "\n",
      "629/629 [==============================] - 15s 24ms/step - loss: 1.6078\n",
      "Epoch 22/25\n",
      "628/629 [============================>.] - ETA: 0s - loss: 1.5955\n",
      "생성된 텍트스:\n",
      "recipe for pork risotto | 1 . place the ice shanks in a bowl . add the carrots , carrot , celery , celery , scallions , sliced lemongrass , and pepper and boil , stirring until dissolved , about 3 minutes . stir in the whipping cream , the lemon juice , and cook until they has evaporated . \n",
      "\n",
      "629/629 [==============================] - 14s 21ms/step - loss: 1.5958\n",
      "Epoch 23/25\n",
      "627/629 [============================>.] - ETA: 0s - loss: 1.5855\n",
      "생성된 텍트스:\n",
      "recipe for olive pie glory | in a large skillet heat the remaining 1 tablespoon butter over moderately low heat just until hot . transfer the pancake to a cutting board and the top the apple mixture .serve hot . \n",
      "\n",
      "629/629 [==============================] - 13s 20ms/step - loss: 1.5857\n",
      "Epoch 24/25\n",
      "628/629 [============================>.] - ETA: 0s - loss: 1.5738\n",
      "생성된 텍트스:\n",
      "recipe for chinese chicken salad | place chickpeas in a bowl and add to both amounts remaining 1 /4 of cilantro . in a bowl , tear orange segments and thoroughly toss with olives , diced onions , and anchovy paste to blend . drizzle yogurt , parmesan , peppers , and 2 tablespoons dressing mixture in a small bowl along with remaining herb oil and lemon juice .pour vinaigrette into a small bowl and stir in lime juice and serve pilaf with vinaigrette spooned on top . \n",
      "\n",
      "629/629 [==============================] - 14s 22ms/step - loss: 1.5738\n",
      "Epoch 25/25\n",
      "627/629 [============================>.] - ETA: 0s - loss: 1.5613\n",
      "생성된 텍트스:\n",
      "recipe for penne with spinach , spinach , saffron , and tomato sauce | heat oil in heavy large saucepan with 1 tablespoon oil in 8 -quart pot over medium heat . add onion and jalapeño and sauté until pork begins to soften , about 3 minutes . add carrots and cook , covered , stirring , until cabbage is tender , about 2 minutes . add wine , crème fraîche , ginger , sugar , parsley sprigs and rosemary sprigs . cook 2 minutes . add broth , crushing remaining broth . bring to boil . reduce heat to\n",
      "\n",
      "629/629 [==============================] - 15s 24ms/step - loss: 1.5613\n"
     ]
    },
    {
     "data": {
      "text/plain": [
       "<keras.src.callbacks.History at 0x7fd7e8fb2990>"
      ]
     },
     "execution_count": 24,
     "metadata": {},
     "output_type": "execute_result"
    }
   ],
   "execution_count": 24
  },
  {
   "metadata": {
    "ExecuteTime": {
     "end_time": "2024-07-23T11:22:17.403591Z",
     "start_time": "2024-07-23T11:22:17.400851Z"
    }
   },
   "cell_type": "code",
   "source": [
    "def print_probs(info, vocab, top_k=5):\n",
    "    for i in info:\n",
    "        print(f\"\\n프롬프트: {i['prompt']}\")\n",
    "        word_probs = i[\"word_probs\"]\n",
    "        p_sorted = np.sort(word_probs)[::-1][:top_k]\n",
    "        i_sorted = np.argsort(word_probs)[::-1][:top_k]\n",
    "        for p, i in zip(p_sorted, i_sorted):\n",
    "            print(f\"{vocab[i]}:   \\t{np.round(100*p,2)}%\")\n",
    "        print(\"--------\\n\")"
   ],
   "id": "f26dc56ada59c46",
   "outputs": [],
   "execution_count": 25
  },
  {
   "metadata": {
    "ExecuteTime": {
     "end_time": "2024-07-23T11:22:27.394605Z",
     "start_time": "2024-07-23T11:22:27.297842Z"
    }
   },
   "cell_type": "code",
   "source": [
    "info = text_generator.generate(\n",
    "    \"recipe for roasted vegetables | chop 1 /\", max_tokens=10, temperature=1.0\n",
    ")"
   ],
   "id": "788ba833c0ba3c13",
   "outputs": [
    {
     "name": "stdout",
     "output_type": "stream",
     "text": [
      "\n",
      "생성된 텍트스:\n",
      "recipe for roasted vegetables | chop 1 / 3 stalk\n",
      "\n"
     ]
    }
   ],
   "execution_count": 26
  },
  {
   "metadata": {
    "ExecuteTime": {
     "end_time": "2024-07-23T11:22:49.118260Z",
     "start_time": "2024-07-23T11:22:49.113745Z"
    }
   },
   "cell_type": "code",
   "source": "print_probs(info, vocab)",
   "id": "1a72669c71b628ae",
   "outputs": [
    {
     "name": "stdout",
     "output_type": "stream",
     "text": [
      "\n",
      "프롬프트: recipe for roasted vegetables | chop 1 /\n",
      "3:   \t19.66%\n",
      "2:   \t15.81%\n",
      "1:   \t11.09%\n",
      "4:   \t10.61%\n",
      "5:   \t5.07%\n",
      "--------\n",
      "\n",
      "\n",
      "프롬프트: recipe for roasted vegetables | chop 1 / 3\n",
      "/4:   \t54.28%\n",
      "-inch:   \t10.58%\n",
      "inches:   \t6.09%\n",
      "-:   \t4.59%\n",
      "-quart:   \t4.04%\n",
      "--------\n",
      "\n"
     ]
    }
   ],
   "execution_count": 27
  },
  {
   "metadata": {
    "ExecuteTime": {
     "end_time": "2024-07-23T11:23:17.946161Z",
     "start_time": "2024-07-23T11:23:17.839887Z"
    }
   },
   "cell_type": "code",
   "source": [
    "info = text_generator.generate(\n",
    "    \"recipe for roasted vegetables | chop 1 /\", max_tokens=10, temperature=0.2\n",
    ")"
   ],
   "id": "b7c4ed5cc707200c",
   "outputs": [
    {
     "name": "stdout",
     "output_type": "stream",
     "text": [
      "\n",
      "생성된 텍트스:\n",
      "recipe for roasted vegetables | chop 1 / 3 /4\n",
      "\n"
     ]
    }
   ],
   "execution_count": 28
  },
  {
   "metadata": {
    "ExecuteTime": {
     "end_time": "2024-07-23T11:23:29.120047Z",
     "start_time": "2024-07-23T11:23:29.116458Z"
    }
   },
   "cell_type": "code",
   "source": "print_probs(info, vocab)",
   "id": "710b9850a2422e6a",
   "outputs": [
    {
     "name": "stdout",
     "output_type": "stream",
     "text": [
      "\n",
      "프롬프트: recipe for roasted vegetables | chop 1 /\n",
      "3:   \t69.4%\n",
      "2:   \t23.36%\n",
      "1:   \t3.97%\n",
      "4:   \t3.17%\n",
      "5:   \t0.08%\n",
      "--------\n",
      "\n",
      "\n",
      "프롬프트: recipe for roasted vegetables | chop 1 / 3\n",
      "/4:   \t99.97%\n",
      "-inch:   \t0.03%\n",
      "inches:   \t0.0%\n",
      "-:   \t0.0%\n",
      "-quart:   \t0.0%\n",
      "--------\n",
      "\n"
     ]
    }
   ],
   "execution_count": 29
  },
  {
   "metadata": {
    "ExecuteTime": {
     "end_time": "2024-07-23T11:23:45.925839Z",
     "start_time": "2024-07-23T11:23:45.867578Z"
    }
   },
   "cell_type": "code",
   "source": [
    "info = text_generator.generate(\n",
    "    \"recipe for chocolate ice cream |\", max_tokens=7, temperature=1.0\n",
    ")\n",
    "print_probs(info, vocab)"
   ],
   "id": "764c290b02533e4e",
   "outputs": [
    {
     "name": "stdout",
     "output_type": "stream",
     "text": [
      "\n",
      "생성된 텍트스:\n",
      "recipe for chocolate ice cream | simmer\n",
      "\n",
      "\n",
      "프롬프트: recipe for chocolate ice cream |\n",
      "in:   \t11.1%\n",
      "combine:   \t9.29%\n",
      "bring:   \t7.49%\n",
      "stir:   \t6.64%\n",
      "put:   \t5.62%\n",
      "--------\n",
      "\n"
     ]
    }
   ],
   "execution_count": 30
  },
  {
   "metadata": {
    "ExecuteTime": {
     "end_time": "2024-07-23T11:24:15.904054Z",
     "start_time": "2024-07-23T11:24:15.850520Z"
    }
   },
   "cell_type": "code",
   "source": [
    "info = text_generator.generate(\n",
    "    \"recipe for chocolate ice cream |\", max_tokens=7, temperature=0.2\n",
    ")\n",
    "print_probs(info, vocab)"
   ],
   "id": "70b1071cefb762c9",
   "outputs": [
    {
     "name": "stdout",
     "output_type": "stream",
     "text": [
      "\n",
      "생성된 텍트스:\n",
      "recipe for chocolate ice cream | in\n",
      "\n",
      "\n",
      "프롬프트: recipe for chocolate ice cream |\n",
      "in:   \t58.09%\n",
      "combine:   \t23.93%\n",
      "bring:   \t8.12%\n",
      "stir:   \t4.44%\n",
      "put:   \t1.93%\n",
      "--------\n",
      "\n"
     ]
    }
   ],
   "execution_count": 31
  },
  {
   "metadata": {},
   "cell_type": "code",
   "outputs": [],
   "execution_count": null,
   "source": "",
   "id": "c181a855755f179"
  }
 ],
 "metadata": {
  "kernelspec": {
   "display_name": "Python 3",
   "language": "python",
   "name": "python3"
  },
  "language_info": {
   "codemirror_mode": {
    "name": "ipython",
    "version": 2
   },
   "file_extension": ".py",
   "mimetype": "text/x-python",
   "name": "python",
   "nbconvert_exporter": "python",
   "pygments_lexer": "ipython2",
   "version": "2.7.6"
  }
 },
 "nbformat": 4,
 "nbformat_minor": 5
}
